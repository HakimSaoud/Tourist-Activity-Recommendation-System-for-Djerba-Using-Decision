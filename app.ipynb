{
 "cells": [
  {
   "cell_type": "code",
   "id": "initial_id",
   "metadata": {
    "collapsed": true,
    "ExecuteTime": {
     "end_time": "2024-12-04T18:01:03.473129Z",
     "start_time": "2024-12-04T18:01:03.468762Z"
    }
   },
   "source": [
    "import streamlit as st\n",
    "import pandas as pd\n",
    "from sklearn.tree import DecisionTreeClassifier\n",
    "import numpy as np"
   ],
   "outputs": [],
   "execution_count": 8
  },
  {
   "metadata": {
    "ExecuteTime": {
     "end_time": "2024-12-04T18:01:03.502816Z",
     "start_time": "2024-12-04T18:01:03.492074Z"
    }
   },
   "cell_type": "code",
   "source": [
    "df = pd.read_csv('Djerba_Tourist_Activities_Large.csv')\n",
    "len(df)"
   ],
   "id": "4bbc3c77615d8926",
   "outputs": [
    {
     "data": {
      "text/plain": [
       "2000"
      ]
     },
     "execution_count": 9,
     "metadata": {},
     "output_type": "execute_result"
    }
   ],
   "execution_count": 9
  },
  {
   "metadata": {
    "ExecuteTime": {
     "end_time": "2024-12-04T18:01:03.542166Z",
     "start_time": "2024-12-04T18:01:03.533263Z"
    }
   },
   "cell_type": "code",
   "source": [
    "df = df.dropna()\n",
    "len(df)"
   ],
   "id": "31a6989b3a0706f2",
   "outputs": [
    {
     "data": {
      "text/plain": [
       "2000"
      ]
     },
     "execution_count": 10,
     "metadata": {},
     "output_type": "execute_result"
    }
   ],
   "execution_count": 10
  },
  {
   "metadata": {
    "ExecuteTime": {
     "end_time": "2024-12-04T18:22:36.381624Z",
     "start_time": "2024-12-04T18:22:36.368594Z"
    }
   },
   "cell_type": "code",
   "source": [
    "df_encoded = pd.get_dummies(df, columns=['Tourist_Type' ,'Interest_Category','Budget','Season','Duration_of_Stay','Accessibility'])\n",
    "df_encoded.head()\n",
    "X = df_encoded.drop(columns='Recommended_Activity')\n",
    "y = df_encoded['Recommended_Activity']"
   ],
   "id": "5ebe8dd39353a05b",
   "outputs": [],
   "execution_count": 15
  },
  {
   "metadata": {
    "ExecuteTime": {
     "end_time": "2024-12-04T18:22:47.515830Z",
     "start_time": "2024-12-04T18:22:47.503853Z"
    }
   },
   "cell_type": "code",
   "source": [
    "for i in df[\"Recommended_Activity\"]:\n",
    "    if i == \"Explore Borj El Kebir Fort\":\n",
    "        i = \"Explore Borj Ghazi Mustapha\"\n",
    "df"
   ],
   "id": "1f3228c4f29d9b15",
   "outputs": [
    {
     "data": {
      "text/plain": [
       "     Tourist_Type Interest_Category  Budget  Season Duration_of_Stay  \\\n",
       "0          Couple        Relaxation  Medium    Fall            Short   \n",
       "1           Group         Adventure    High    Fall            Short   \n",
       "2          Family         Adventure    High  Spring            Short   \n",
       "3           Group        Relaxation     Low  Spring           Medium   \n",
       "4          Couple        Relaxation  Medium    Fall            Short   \n",
       "...           ...               ...     ...     ...              ...   \n",
       "1995        Group           Culture  Medium  Winter            Short   \n",
       "1996       Family           Culture     Low    Fall             Long   \n",
       "1997         Solo        Relaxation    High  Winter            Short   \n",
       "1998         Solo           Culture  Medium  Winter             Long   \n",
       "1999        Group         Adventure     Low    Fall           Medium   \n",
       "\n",
       "         Accessibility        Recommended_Activity  \n",
       "0              Walking          Luxury Spa Retreat  \n",
       "1     Public Transport     Camel Ride on the Beach  \n",
       "2              Walking     Artisan Market Shopping  \n",
       "3              Walking  Relax at Sidi Mahres Beach  \n",
       "4     Public Transport     Artisan Market Shopping  \n",
       "...                ...                         ...  \n",
       "1995  Public Transport                 Kitesurfing  \n",
       "1996           Walking  Explore Borj El Kebir Fort  \n",
       "1997           Walking       Visit Guellala Museum  \n",
       "1998           Walking  Explore Borj El Kebir Fort  \n",
       "1999           Walking  Explore Borj El Kebir Fort  \n",
       "\n",
       "[2000 rows x 7 columns]"
      ],
      "text/html": [
       "<div>\n",
       "<style scoped>\n",
       "    .dataframe tbody tr th:only-of-type {\n",
       "        vertical-align: middle;\n",
       "    }\n",
       "\n",
       "    .dataframe tbody tr th {\n",
       "        vertical-align: top;\n",
       "    }\n",
       "\n",
       "    .dataframe thead th {\n",
       "        text-align: right;\n",
       "    }\n",
       "</style>\n",
       "<table border=\"1\" class=\"dataframe\">\n",
       "  <thead>\n",
       "    <tr style=\"text-align: right;\">\n",
       "      <th></th>\n",
       "      <th>Tourist_Type</th>\n",
       "      <th>Interest_Category</th>\n",
       "      <th>Budget</th>\n",
       "      <th>Season</th>\n",
       "      <th>Duration_of_Stay</th>\n",
       "      <th>Accessibility</th>\n",
       "      <th>Recommended_Activity</th>\n",
       "    </tr>\n",
       "  </thead>\n",
       "  <tbody>\n",
       "    <tr>\n",
       "      <th>0</th>\n",
       "      <td>Couple</td>\n",
       "      <td>Relaxation</td>\n",
       "      <td>Medium</td>\n",
       "      <td>Fall</td>\n",
       "      <td>Short</td>\n",
       "      <td>Walking</td>\n",
       "      <td>Luxury Spa Retreat</td>\n",
       "    </tr>\n",
       "    <tr>\n",
       "      <th>1</th>\n",
       "      <td>Group</td>\n",
       "      <td>Adventure</td>\n",
       "      <td>High</td>\n",
       "      <td>Fall</td>\n",
       "      <td>Short</td>\n",
       "      <td>Public Transport</td>\n",
       "      <td>Camel Ride on the Beach</td>\n",
       "    </tr>\n",
       "    <tr>\n",
       "      <th>2</th>\n",
       "      <td>Family</td>\n",
       "      <td>Adventure</td>\n",
       "      <td>High</td>\n",
       "      <td>Spring</td>\n",
       "      <td>Short</td>\n",
       "      <td>Walking</td>\n",
       "      <td>Artisan Market Shopping</td>\n",
       "    </tr>\n",
       "    <tr>\n",
       "      <th>3</th>\n",
       "      <td>Group</td>\n",
       "      <td>Relaxation</td>\n",
       "      <td>Low</td>\n",
       "      <td>Spring</td>\n",
       "      <td>Medium</td>\n",
       "      <td>Walking</td>\n",
       "      <td>Relax at Sidi Mahres Beach</td>\n",
       "    </tr>\n",
       "    <tr>\n",
       "      <th>4</th>\n",
       "      <td>Couple</td>\n",
       "      <td>Relaxation</td>\n",
       "      <td>Medium</td>\n",
       "      <td>Fall</td>\n",
       "      <td>Short</td>\n",
       "      <td>Public Transport</td>\n",
       "      <td>Artisan Market Shopping</td>\n",
       "    </tr>\n",
       "    <tr>\n",
       "      <th>...</th>\n",
       "      <td>...</td>\n",
       "      <td>...</td>\n",
       "      <td>...</td>\n",
       "      <td>...</td>\n",
       "      <td>...</td>\n",
       "      <td>...</td>\n",
       "      <td>...</td>\n",
       "    </tr>\n",
       "    <tr>\n",
       "      <th>1995</th>\n",
       "      <td>Group</td>\n",
       "      <td>Culture</td>\n",
       "      <td>Medium</td>\n",
       "      <td>Winter</td>\n",
       "      <td>Short</td>\n",
       "      <td>Public Transport</td>\n",
       "      <td>Kitesurfing</td>\n",
       "    </tr>\n",
       "    <tr>\n",
       "      <th>1996</th>\n",
       "      <td>Family</td>\n",
       "      <td>Culture</td>\n",
       "      <td>Low</td>\n",
       "      <td>Fall</td>\n",
       "      <td>Long</td>\n",
       "      <td>Walking</td>\n",
       "      <td>Explore Borj El Kebir Fort</td>\n",
       "    </tr>\n",
       "    <tr>\n",
       "      <th>1997</th>\n",
       "      <td>Solo</td>\n",
       "      <td>Relaxation</td>\n",
       "      <td>High</td>\n",
       "      <td>Winter</td>\n",
       "      <td>Short</td>\n",
       "      <td>Walking</td>\n",
       "      <td>Visit Guellala Museum</td>\n",
       "    </tr>\n",
       "    <tr>\n",
       "      <th>1998</th>\n",
       "      <td>Solo</td>\n",
       "      <td>Culture</td>\n",
       "      <td>Medium</td>\n",
       "      <td>Winter</td>\n",
       "      <td>Long</td>\n",
       "      <td>Walking</td>\n",
       "      <td>Explore Borj El Kebir Fort</td>\n",
       "    </tr>\n",
       "    <tr>\n",
       "      <th>1999</th>\n",
       "      <td>Group</td>\n",
       "      <td>Adventure</td>\n",
       "      <td>Low</td>\n",
       "      <td>Fall</td>\n",
       "      <td>Medium</td>\n",
       "      <td>Walking</td>\n",
       "      <td>Explore Borj El Kebir Fort</td>\n",
       "    </tr>\n",
       "  </tbody>\n",
       "</table>\n",
       "<p>2000 rows × 7 columns</p>\n",
       "</div>"
      ]
     },
     "execution_count": 16,
     "metadata": {},
     "output_type": "execute_result"
    }
   ],
   "execution_count": 16
  },
  {
   "metadata": {
    "ExecuteTime": {
     "end_time": "2024-12-04T18:01:03.636505Z",
     "start_time": "2024-12-04T18:01:03.629796Z"
    }
   },
   "cell_type": "code",
   "source": [
    "from sklearn.model_selection import train_test_split\n",
    "X_train, X_test, y_train, y_test = train_test_split(X, y, test_size=0.2, random_state=0)"
   ],
   "id": "2cc5411f618d81d8",
   "outputs": [],
   "execution_count": 12
  },
  {
   "metadata": {
    "ExecuteTime": {
     "end_time": "2024-12-04T18:01:09.221033Z",
     "start_time": "2024-12-04T18:01:09.203704Z"
    }
   },
   "cell_type": "code",
   "source": [
    "model = DecisionTreeClassifier()\n",
    "model.fit(X_train, y_train)\n",
    "model.score(X_test, y_test)"
   ],
   "id": "52731b00ee6c79be",
   "outputs": [
    {
     "data": {
      "text/plain": [
       "0.115"
      ]
     },
     "execution_count": 14,
     "metadata": {},
     "output_type": "execute_result"
    }
   ],
   "execution_count": 14
  },
  {
   "metadata": {
    "ExecuteTime": {
     "end_time": "2024-12-04T18:01:03.788051Z",
     "start_time": "2024-12-04T18:01:03.784794Z"
    }
   },
   "cell_type": "code",
   "source": "",
   "id": "acdc62ecac4ffaaf",
   "outputs": [],
   "execution_count": null
  }
 ],
 "metadata": {
  "kernelspec": {
   "display_name": "Python 3",
   "language": "python",
   "name": "python3"
  },
  "language_info": {
   "codemirror_mode": {
    "name": "ipython",
    "version": 2
   },
   "file_extension": ".py",
   "mimetype": "text/x-python",
   "name": "python",
   "nbconvert_exporter": "python",
   "pygments_lexer": "ipython2",
   "version": "2.7.6"
  }
 },
 "nbformat": 4,
 "nbformat_minor": 5
}
